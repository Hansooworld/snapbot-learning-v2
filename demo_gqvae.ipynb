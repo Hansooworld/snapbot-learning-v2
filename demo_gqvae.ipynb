{
 "cells": [
  {
   "cell_type": "code",
   "execution_count": 1,
   "metadata": {},
   "outputs": [
    {
     "name": "stdout",
     "output_type": "stream",
     "text": [
      "Torch version:[1.11.0+cu113]\n"
     ]
    }
   ],
   "source": [
    "import numpy as np\n",
    "import random\n",
    "import torch\n",
    "import torch.nn as nn  \n",
    "import torch.nn.functional as F \n",
    "import matplotlib.pyplot as plt\n",
    "%matplotlib inline\n",
    "%config InlineBackend.figure_format='retina'\n",
    "print (\"Torch version:[%s]\"%(torch.__version__))"
   ]
  },
  {
   "cell_type": "code",
   "execution_count": 2,
   "metadata": {},
   "outputs": [
    {
     "name": "stdout",
     "output_type": "stream",
     "text": [
      "Done.\n"
     ]
    }
   ],
   "source": [
    "def torch2np(x_torch):\n",
    "    if x_torch is None:\n",
    "        x_np = None\n",
    "    else:\n",
    "        x_np = x_torch.detach().cpu().numpy()\n",
    "    return x_np\n",
    "def np2torch(x_np,device='cuda:0'):\n",
    "    if x_np is None:\n",
    "        x_torch = None\n",
    "    else:\n",
    "        x_torch = torch.tensor(x_np,dtype=torch.float32,device=device)\n",
    "    return x_torch\n",
    "print (\"Done.\")"
   ]
  },
  {
   "cell_type": "code",
   "execution_count": 3,
   "metadata": {},
   "outputs": [],
   "source": [
    "class GumbelQuantizer(nn.Module):\n",
    "    def __init__(\n",
    "                self, \n",
    "                z_dim, \n",
    "                embedding_num, \n",
    "                embedding_dim,\n",
    "                tau_scale = 1.0,\n",
    "                kld_scale = 5e-4,\n",
    "                straight_through=False,\n",
    "                device = torch.device('cuda:0' if torch.cuda.is_available() else 'cpu')\n",
    "                ):\n",
    "        super(GumbelQuantizer, self).__init__()\n",
    "        self.embedding_num    = embedding_num\n",
    "        self.embedding_dim    = embedding_dim\n",
    "        self.straight_through = straight_through\n",
    "        self.device     = device\n",
    "        self.tau_scale  = tau_scale\n",
    "        self.kld_scale  = kld_scale\n",
    "        self.projection = nn.Linear(z_dim, self.embedding_num)\n",
    "        self.embedding  = nn.Embedding(self.embedding_num, embedding_dim)\n",
    "        self.init_embedding()\n",
    "\n",
    "    def init_embedding(self):\n",
    "        self.embedding.weight.data.fill_(0)\n",
    "        self.embedding.weight.data.fill_diagonal_(1)\n",
    "\n",
    "    def zero_grad_for_non_diagnoal_weights(self):\n",
    "        for row, grads in enumerate(self.embedding.weight.grad):\n",
    "            # grads[:row] = 0\n",
    "            # grads[row+1:] = 0\n",
    "            grads[:] = 0\n",
    "\n",
    "    def forward(self, z, hard=False):\n",
    "        # force hard = True when we are in eval mode, as we must quantize\n",
    "        # hard   = self.straight_through if self.training else True\n",
    "        logits = self.projection(z)\n",
    "        soft_one_hot = F.gumbel_softmax(logits, tau=self.tau_scale, dim=1, hard=hard)\n",
    "        z_q = torch.matmul(soft_one_hot, self.embedding.weight).to(self.device)\n",
    "        # + kl divergence to the prior loss\n",
    "        qy   = F.softmax(logits, dim=1)\n",
    "        diff = self.kld_scale * torch.sum(qy * torch.log(qy * self.embedding_num + 1e-10), dim=1).mean()\n",
    "        return z_q, diff"
   ]
  },
  {
   "cell_type": "code",
   "execution_count": 4,
   "metadata": {},
   "outputs": [],
   "source": [
    "class GumbelQuantizedVariationalAutoEncoder(nn.Module):\n",
    "    def __init__(\n",
    "        self,\n",
    "        name     = 'GQVAE',              \n",
    "        x_dim    = 784,              # input dimension\n",
    "        c_dim    = 10,               # condition dimension\n",
    "        z_dim    = 15,               # latent dimension\n",
    "        h_dims   = [64,32],          # hidden dimensions of encoder (and decoder)\n",
    "        embedding_num   = 10,        # For VQ parameters\n",
    "        embedding_dim   = 3,         # For VQ parameters\n",
    "        tau_scale = 1.0,             # For VQ parameters\n",
    "        kld_scale = 5e-4,            # For VQ parameters \n",
    "        actv_enc = nn.ReLU(),        # encoder activation\n",
    "        actv_dec = nn.ReLU(),        # decoder activation\n",
    "        actv_q   = nn.Softplus(),    # q activation\n",
    "        actv_out = None,             # output activation\n",
    "        device   = 'cpu'\n",
    "        ):\n",
    "        \"\"\"\n",
    "            Initialize\n",
    "        \"\"\"\n",
    "        super(GumbelQuantizedVariationalAutoEncoder, self).__init__()\n",
    "        self.name   = name\n",
    "        self.x_dim  = x_dim\n",
    "        self.c_dim  = c_dim\n",
    "        self.z_dim  = z_dim\n",
    "        self.h_dims = h_dims\n",
    "        self.embedding_num = embedding_num\n",
    "        self.embedding_dim = embedding_dim\n",
    "        self.tau_scale = tau_scale\n",
    "        self.kld_scale = kld_scale\n",
    "        self.actv_enc  = actv_enc\n",
    "        self.actv_dec  = actv_dec\n",
    "        self.actv_q    = actv_q\n",
    "        self.actv_out  = actv_out\n",
    "        self.device    = device\n",
    "        # Initialize VQ class\n",
    "        self.GQ = GumbelQuantizer(self.z_dim, self.embedding_num, self.embedding_dim, self.tau_scale, self.kld_scale).to(self.device)\n",
    "        # Initialize layers\n",
    "        self.init_layers()\n",
    "        self.init_params()\n",
    "                \n",
    "    def init_layers(self):\n",
    "        \"\"\"\n",
    "            Initialize layers\n",
    "        \"\"\"\n",
    "        self.layers = {}\n",
    "        \n",
    "        # Encoder part\n",
    "        h_dim_prev = self.x_dim + self.c_dim\n",
    "        for h_idx,h_dim in enumerate(self.h_dims):\n",
    "            self.layers['enc_%02d_lin'%(h_idx)]  = \\\n",
    "                nn.Linear(h_dim_prev,h_dim,bias=True)\n",
    "            self.layers['enc_%02d_actv'%(h_idx)] = \\\n",
    "                self.actv_enc\n",
    "            h_dim_prev = h_dim\n",
    "        self.layers['z_lin']  = nn.Linear(h_dim_prev,self.z_dim,bias=True)\n",
    "        \n",
    "        # Decoder part\n",
    "        h_dim_prev = self.z_dim + self.c_dim\n",
    "        for h_idx,h_dim in enumerate(self.h_dims[::-1]):\n",
    "            self.layers['dec_%02d_lin'%(h_idx)]  = \\\n",
    "                nn.Linear(h_dim_prev,h_dim,bias=True)\n",
    "            self.layers['dec_%02d_actv'%(h_idx)] = \\\n",
    "                self.actv_dec\n",
    "            h_dim_prev = h_dim\n",
    "        self.layers['out_lin'] = nn.Linear(h_dim_prev,self.x_dim,bias=True)\n",
    "        \n",
    "        # Append parameters\n",
    "        self.param_dict = {}\n",
    "        for key in self.layers.keys():\n",
    "            layer = self.layers[key]\n",
    "            if isinstance(layer,nn.Linear):\n",
    "                self.param_dict[key+'_w'] = layer.weight\n",
    "                self.param_dict[key+'_b'] = layer.bias\n",
    "        self.gqvae_parameters = nn.ParameterDict(self.param_dict)\n",
    "        \n",
    "    def xc_to_z(\n",
    "        self,\n",
    "        x = torch.randn(2,784),\n",
    "        c = torch.randn(2,10)\n",
    "        ):\n",
    "        \"\"\"\n",
    "            x to z\n",
    "        \"\"\"\n",
    "        if c is not None:\n",
    "            net = torch.cat((x,c), dim=1)\n",
    "        else:\n",
    "            net = x\n",
    "        for h_idx,_ in enumerate(self.h_dims):\n",
    "            net = self.layers['enc_%02d_lin'%(h_idx)](net)\n",
    "            net = self.layers['enc_%02d_actv'%(h_idx)](net)\n",
    "        z = self.layers['z_lin'](net)\n",
    "        return z\n",
    "    \n",
    "    def zc_to_x_recon(\n",
    "        self,\n",
    "        z = torch.randn(2,16),\n",
    "        c = torch.randn(2,10)\n",
    "        ):\n",
    "        \"\"\"\n",
    "            z and c to x_recon\n",
    "        \"\"\"\n",
    "        net, _ = self.GQ(z, hard=True)\n",
    "        if c is not None:\n",
    "            net = torch.cat((net,c),dim=1)\n",
    "        else:\n",
    "            pass\n",
    "        for h_idx,_ in enumerate(self.h_dims[::-1]):\n",
    "            net = self.layers['dec_%02d_lin'%(h_idx)](net)\n",
    "            net = self.layers['dec_%02d_actv'%(h_idx)](net)\n",
    "        net = self.layers['out_lin'](net)\n",
    "        if self.actv_out is not None:\n",
    "            net = self.actv_out(net)\n",
    "        x_recon = net\n",
    "        return x_recon\n",
    "\n",
    "    def z_q_to_x_recon(\n",
    "        self,\n",
    "        z_q,\n",
    "        c\n",
    "        ):\n",
    "        \"\"\"\n",
    "            z and c to x_recon\n",
    "        \"\"\"\n",
    "        net = torch.cat((z_q,c),dim=1)\n",
    "        for h_idx,_ in enumerate(self.h_dims[::-1]):\n",
    "            net = self.layers['dec_%02d_lin'%(h_idx)](net)\n",
    "            net = self.layers['dec_%02d_actv'%(h_idx)](net)\n",
    "        net = self.layers['out_lin'](net)\n",
    "        if self.actv_out is not None:\n",
    "            net = self.actv_out(net)\n",
    "        x_recon = net\n",
    "        return x_recon\n",
    "\n",
    "    def xc_to_x_recon(\n",
    "        self,\n",
    "        x = torch.randn(2,784),\n",
    "        c = torch.randn(2,10)\n",
    "        ):\n",
    "        \"\"\"\n",
    "            x to x_recon\n",
    "        \"\"\"\n",
    "        z = self.xc_to_z(x=x, c=c)\n",
    "        x_recon = self.zc_to_x_recon(z=z, c=c)\n",
    "        return x_recon\n",
    "\n",
    "    def sample_x(\n",
    "        self,\n",
    "        c = torch.randn(2,10),\n",
    "        n_sample = 1\n",
    "        ):\n",
    "        \"\"\"\n",
    "            sample x from codebook\n",
    "        \"\"\"\n",
    "        random_integers  = np.random.permutation(self.embedding_num)[:n_sample]\n",
    "        random_embedding = self.GQ.embedding.weight.data[random_integers, :]\n",
    "        x_sample = self.z_q_to_x_recon(z_q=random_embedding, c=c).detach().cpu().numpy()\n",
    "        return x_sample\n",
    "\n",
    "    def init_params(self,seed=0):\n",
    "        \"\"\"\n",
    "            Initialize parameters\n",
    "        \"\"\"\n",
    "        # Fix random seed\n",
    "        random.seed(seed)\n",
    "        np.random.seed(seed)\n",
    "        torch.manual_seed(seed)\n",
    "        # Init\n",
    "        for key in self.layers.keys():\n",
    "            layer = self.layers[key]\n",
    "            if isinstance(layer,nn.Linear):\n",
    "                nn.init.normal_(layer.weight,mean=0.0,std=0.01)\n",
    "                nn.init.zeros_(layer.bias)\n",
    "            elif isinstance(layer,nn.BatchNorm2d):\n",
    "                nn.init.constant_(layer.weight,1.0)\n",
    "                nn.init.constant_(layer.bias,0.0)\n",
    "            elif isinstance(layer,nn.Conv2d):\n",
    "                nn.init.kaiming_normal_(layer.weight)\n",
    "                nn.init.zeros_(layer.bias)\n",
    "    \n",
    "    def loss_recon(\n",
    "        self,\n",
    "        x               = torch.randn(2,784),\n",
    "        c               = torch.randn(2,10),\n",
    "        LOSS_TYPE       = 'L1+L2',\n",
    "        recon_loss_gain = 1.0\n",
    "        ):\n",
    "        \"\"\"\n",
    "            Recon loss\n",
    "        \"\"\"\n",
    "        x_recon = self.xc_to_x_recon(x=x, c=c)\n",
    "        if (LOSS_TYPE == 'L1') or (LOSS_TYPE == 'MAE'):\n",
    "            errs = torch.mean(torch.abs(x-x_recon),axis=1)\n",
    "        elif (LOSS_TYPE == 'L2') or (LOSS_TYPE == 'MSE'):\n",
    "            errs = torch.mean(torch.square(x-x_recon),axis=1)\n",
    "        elif (LOSS_TYPE == 'L1+L2') or (LOSS_TYPE == 'EN'):\n",
    "            errs = torch.mean(\n",
    "                0.5*(torch.abs(x-x_recon)+torch.square(x-x_recon)),axis=1)\n",
    "        else:\n",
    "            raise Exception(\"VAE:[%s] Unknown loss_type:[%s]\"%\n",
    "                            (self.name,LOSS_TYPE))\n",
    "        return recon_loss_gain*torch.mean(errs)\n",
    "        \n",
    "    def loss_total(\n",
    "        self,\n",
    "        x               = torch.randn(2,784),\n",
    "        c               = torch.randn(2,10),\n",
    "        LOSS_TYPE       = 'L1+L2',\n",
    "        recon_loss_gain = 1.0\n",
    "        ):\n",
    "        \"\"\"\n",
    "            Total loss\n",
    "        \"\"\"\n",
    "        loss_recon_out = self.loss_recon(\n",
    "            x               = x,\n",
    "            c               = c,\n",
    "            LOSS_TYPE       = LOSS_TYPE,\n",
    "            recon_loss_gain = recon_loss_gain\n",
    "        )\n",
    "        z = self.xc_to_z(x, c)\n",
    "        _, loss_vq = self.GQ(z, hard=True)\n",
    "        loss_total_out = loss_recon_out + loss_vq\n",
    "        info           = {'loss_total_out' : loss_total_out,\n",
    "                          'loss_recon_out' : loss_recon_out,\n",
    "                          'loss_vq'        : loss_vq}\n",
    "        return loss_total_out, info\n",
    "\n",
    "    def debug_plot_img(\n",
    "        self,\n",
    "        x_train_np     = np.zeros((60000,784)),  # to plot encoded latent space \n",
    "        y_train_np     = np.zeros((60000)),      # to plot encoded latent space \n",
    "        c_train_np     = np.zeros((60000,10)),   # to plot encoded latent space\n",
    "        x_test_np      = np.zeros((10000,784)),\n",
    "        c_test_np      = np.zeros((10000,10)),\n",
    "        c_vecs         = np.eye(10,10),\n",
    "        n_sample       = 10,\n",
    "        img_shape      = (28,28),\n",
    "        img_cmap       = 'gray',\n",
    "        figsize_image  = (10,3.25),\n",
    "        figsize_latent = (10,3.25),\n",
    "        DPP_GEN        = False,\n",
    "        dpp_hyp        = {'g':1.0,'l':0.1}\n",
    "        ):\n",
    "        \"\"\"\n",
    "            Debug plot\n",
    "        \"\"\"\n",
    "        n_train       = x_train_np.shape[0]\n",
    "        x_train_torch = np2torch(x_train_np, device=self.device)\n",
    "        # Reconstruct\n",
    "        x_test_torch  = np2torch(x_test_np, device=self.device)\n",
    "        c_test_torch  = np2torch(c_test_np, device=self.device)\n",
    "        n_test        = x_test_np.shape[0]\n",
    "        rand_idxs     = np.random.permutation(n_test)[:n_sample]\n",
    "        x_recon = self.xc_to_x_recon(x=x_test_torch[rand_idxs,:], c=c_test_torch[rand_idxs]).detach().cpu().numpy()\n",
    "        # Generation\n",
    "        random_integers  = np.random.permutation(self.embedding_num)[:n_sample]\n",
    "        random_embedding = self.GQ.embedding.weight.data[random_integers, :]\n",
    "        x_sample = self.z_q_to_x_recon(z_q=random_embedding, c=c_test_torch[random_integers]).detach().cpu().numpy()\n",
    "        # Plot images to reconstruct\n",
    "        fig = plt.figure(figsize=figsize_image)\n",
    "        for s_idx in range(n_sample):\n",
    "            plt.subplot(1,n_sample,s_idx+1)\n",
    "            plt.imshow(x_test_np[rand_idxs[s_idx],:].reshape(img_shape),\n",
    "                       vmin=0,vmax=1,cmap=img_cmap)\n",
    "            plt.axis('off')\n",
    "        fig.suptitle(\"Images to Reconstruct\",fontsize=15);plt.show()\n",
    "        \n",
    "        # Plot reconstructed images\n",
    "        fig = plt.figure(figsize=figsize_image)\n",
    "        for s_idx in range(n_sample):\n",
    "            plt.subplot(1,n_sample,s_idx+1)\n",
    "            plt.imshow(x_recon[s_idx,:].reshape(img_shape),\n",
    "                       vmin=0,vmax=1,cmap=img_cmap)\n",
    "            plt.axis('off')\n",
    "        fig.suptitle(\"Reconstructed Images\",fontsize=15);plt.show()\n",
    "\n",
    "        # Plot generated images\n",
    "        fig = plt.figure(figsize=figsize_image)\n",
    "        for s_idx in range(n_sample):\n",
    "            plt.subplot(1,n_sample,s_idx+1)\n",
    "            plt.imshow(x_sample[s_idx,:].reshape(img_shape),\n",
    "                       vmin=0,vmax=1,cmap=img_cmap)\n",
    "            plt.axis('off')\n",
    "        fig.suptitle(\"Generated Images\",fontsize=15);plt.show()"
   ]
  },
  {
   "cell_type": "code",
   "execution_count": 5,
   "metadata": {},
   "outputs": [
    {
     "name": "stdout",
     "output_type": "stream",
     "text": [
      "x_train_np:(60000, 784) x_test_np:(10000, 784)\n",
      "c_train_np:(60000, 10) c_test_np:(10000, 10)\n",
      "n_train:[60000] n_test:[10000]\n"
     ]
    }
   ],
   "source": [
    "from torchvision import datasets,transforms\n",
    "mnist_train = datasets.MNIST(\n",
    "    root='data/',train=True,transform=transforms.ToTensor(),download=True)\n",
    "mnist_test  = datasets.MNIST(\n",
    "    root='data/',train=False,transform=transforms.ToTensor(),download=True)\n",
    "# Training data\n",
    "x_train_torch               = mnist_train.data.float().reshape(-1,784)/255.\n",
    "y_train_torch               = mnist_train.targets\n",
    "x_test_torch                = mnist_test.data.float().reshape(-1,784)/255.\n",
    "y_test_torch                = mnist_test.targets\n",
    "x_train_np,x_test_np        = torch2np(x_train_torch),torch2np(x_test_torch)\n",
    "y_train_np,y_test_np        = torch2np(y_train_torch),torch2np(y_test_torch)\n",
    "c_train_np,c_test_np        = np.eye(10,10)[y_train_np],np.eye(10,10)[y_test_np]\n",
    "n_train,n_test              = x_train_np.shape[0],x_test_np.shape[0]\n",
    "c_train_torch,c_test_torch  = np2torch(c_train_np),np2torch(c_test_np)\n",
    "print (\"x_train_np:%s x_test_np:%s\"%(x_train_np.shape,x_test_np.shape,))\n",
    "print (\"c_train_np:%s c_test_np:%s\"%(c_train_np.shape,c_test_np.shape,))\n",
    "print (\"n_train:[%d] n_test:[%d]\"%(n_train,n_test))"
   ]
  },
  {
   "cell_type": "code",
   "execution_count": 6,
   "metadata": {},
   "outputs": [
    {
     "name": "stdout",
     "output_type": "stream",
     "text": [
      "[GQVAE] instantiated with device:[cuda:0]\n",
      "Start training.\n",
      "[0/200] total:[0.108] recon:[0.108] vq:[0.001]\n"
     ]
    },
    {
     "data": {
      "image/png": "[encoded data removed]",
      "text/plain": [
       "<Figure size 720x90 with 10 Axes>"
      ]
     },
     "metadata": {
      "image/png": {
       "height": 81,
       "width": 572
      },
      "needs_background": "light"
     },
     "output_type": "display_data"
    },
    {
     "data": {
      "image/png": "[encoded data removed]",
      "text/plain": [
       "<Figure size 720x90 with 10 Axes>"
      ]
     },
     "metadata": {
      "image/png": {
       "height": 81,
       "width": 572
      },
      "needs_background": "light"
     },
     "output_type": "display_data"
    },
    {
     "data": {
      "image/png": "[encoded data removed]",
      "text/plain": [
       "<Figure size 720x90 with 10 Axes>"
      ]
     },
     "metadata": {
      "image/png": {
       "height": 81,
       "width": 572
      },
      "needs_background": "light"
     },
     "output_type": "display_data"
    },
    {
     "name": "stdout",
     "output_type": "stream",
     "text": [
      "[1/200] total:[0.101] recon:[0.101] vq:[0.000]\n",
      "[2/200] total:[0.101] recon:[0.101] vq:[0.000]\n",
      "[3/200] total:[0.101] recon:[0.101] vq:[0.000]\n",
      "[4/200] total:[0.101] recon:[0.101] vq:[0.000]\n",
      "[5/200] total:[0.101] recon:[0.101] vq:[0.000]\n",
      "[6/200] total:[0.101] recon:[0.101] vq:[0.000]\n",
      "[7/200] total:[0.101] recon:[0.101] vq:[0.000]\n",
      "[8/200] total:[0.101] recon:[0.101] vq:[0.000]\n",
      "[9/200] total:[0.101] recon:[0.101] vq:[0.000]\n",
      "[10/200] total:[0.101] recon:[0.101] vq:[0.000]\n"
     ]
    },
    {
     "data": {
      "image/png": "[encoded data removed]",
      "text/plain": [
       "<Figure size 720x90 with 10 Axes>"
      ]
     },
     "metadata": {
      "image/png": {
       "height": 81,
       "width": 572
      },
      "needs_background": "light"
     },
     "output_type": "display_data"
    },
    {
     "data": {
      "image/png": "[encoded data removed]",
      "text/plain": [
       "<Figure size 720x90 with 10 Axes>"
      ]
     },
     "metadata": {
      "image/png": {
       "height": 81,
       "width": 572
      },
      "needs_background": "light"
     },
     "output_type": "display_data"
    },
    {
     "data": {
      "image/png": "[encoded data removed]",
      "text/plain": [
       "<Figure size 720x90 with 10 Axes>"
      ]
     },
     "metadata": {
      "image/png": {
       "height": 81,
       "width": 572
      },
      "needs_background": "light"
     },
     "output_type": "display_data"
    },
    {
     "name": "stdout",
     "output_type": "stream",
     "text": [
      "[11/200] total:[0.101] recon:[0.101] vq:[0.000]\n",
      "[12/200] total:[0.101] recon:[0.101] vq:[0.000]\n",
      "[13/200] total:[0.101] recon:[0.101] vq:[0.000]\n",
      "[14/200] total:[0.101] recon:[0.101] vq:[0.000]\n",
      "[15/200] total:[0.101] recon:[0.101] vq:[0.000]\n",
      "[16/200] total:[0.101] recon:[0.101] vq:[0.000]\n",
      "[17/200] total:[0.101] recon:[0.101] vq:[0.000]\n",
      "[18/200] total:[0.101] recon:[0.101] vq:[0.000]\n",
      "[19/200] total:[0.101] recon:[0.101] vq:[0.000]\n"
     ]
    },
    {
     "ename": "KeyboardInterrupt",
     "evalue": "",
     "output_type": "error",
     "traceback": [
      "\u001b[0;31m---------------------------------------------------------------------------\u001b[0m",
      "\u001b[0;31mKeyboardInterrupt\u001b[0m                         Traceback (most recent call last)",
      "\u001b[1;32m/home/sunghyun/Project/snapbot-learning-v2/demo_gqvae.ipynb Cell 6\u001b[0m in \u001b[0;36m<cell line: 37>\u001b[0;34m()\u001b[0m\n\u001b[1;32m     <a href='vscode-notebook-cell://ssh-remote%2B7b22686f73744e616d65223a224e6f697379227d/home/sunghyun/Project/snapbot-learning-v2/demo_gqvae.ipynb#W5sdnNjb2RlLXJlbW90ZQ%3D%3D?line=61'>62</a>\u001b[0m loss_total_avg \u001b[39m=\u001b[39m loss_total_sum \u001b[39m/\u001b[39m n_batch_sum\n\u001b[1;32m     <a href='vscode-notebook-cell://ssh-remote%2B7b22686f73744e616d65223a224e6f697379227d/home/sunghyun/Project/snapbot-learning-v2/demo_gqvae.ipynb#W5sdnNjb2RlLXJlbW90ZQ%3D%3D?line=62'>63</a>\u001b[0m loss_recon_avg \u001b[39m=\u001b[39m loss_recon_sum \u001b[39m/\u001b[39m n_batch_sum\n\u001b[0;32m---> <a href='vscode-notebook-cell://ssh-remote%2B7b22686f73744e616d65223a224e6f697379227d/home/sunghyun/Project/snapbot-learning-v2/demo_gqvae.ipynb#W5sdnNjb2RlLXJlbW90ZQ%3D%3D?line=63'>64</a>\u001b[0m loss_vq_avg    \u001b[39m=\u001b[39m loss_vq_sum \u001b[39m/\u001b[39m n_batch_sum\n\u001b[1;32m     <a href='vscode-notebook-cell://ssh-remote%2B7b22686f73744e616d65223a224e6f697379227d/home/sunghyun/Project/snapbot-learning-v2/demo_gqvae.ipynb#W5sdnNjb2RlLXJlbW90ZQ%3D%3D?line=65'>66</a>\u001b[0m \u001b[39m# Print\u001b[39;00m\n\u001b[1;32m     <a href='vscode-notebook-cell://ssh-remote%2B7b22686f73744e616d65223a224e6f697379227d/home/sunghyun/Project/snapbot-learning-v2/demo_gqvae.ipynb#W5sdnNjb2RlLXJlbW90ZQ%3D%3D?line=66'>67</a>\u001b[0m \u001b[39mprint\u001b[39m (\u001b[39m\"\u001b[39m\u001b[39m[\u001b[39m\u001b[39m%d\u001b[39;00m\u001b[39m/\u001b[39m\u001b[39m%d\u001b[39;00m\u001b[39m] total:[\u001b[39m\u001b[39m%.3f\u001b[39;00m\u001b[39m] recon:[\u001b[39m\u001b[39m%.3f\u001b[39;00m\u001b[39m] vq:[\u001b[39m\u001b[39m%.3f\u001b[39;00m\u001b[39m]\u001b[39m\u001b[39m\"\u001b[39m\u001b[39m%\u001b[39m\n\u001b[1;32m     <a href='vscode-notebook-cell://ssh-remote%2B7b22686f73744e616d65223a224e6f697379227d/home/sunghyun/Project/snapbot-learning-v2/demo_gqvae.ipynb#W5sdnNjb2RlLXJlbW90ZQ%3D%3D?line=67'>68</a>\u001b[0m        (epoch,n_epoch,loss_total_avg,loss_recon_avg, \u001b[39m10000\u001b[39m\u001b[39m*\u001b[39mloss_vq_avg))\n",
      "\u001b[0;31mKeyboardInterrupt\u001b[0m: "
     ]
    }
   ],
   "source": [
    "GQVAE = GumbelQuantizedVariationalAutoEncoder(\n",
    "                                            name     = 'GQVAE',              \n",
    "                                            x_dim    = 784,              # input dimension\n",
    "                                            c_dim    = 10,               # condition dimension\n",
    "                                            z_dim    = 32,               # latent dimension\n",
    "                                            h_dims   = [64,32],          # hidden dimensions of encoder (and decoder)\n",
    "                                            embedding_num   = 32,        # For VQ parameters\n",
    "                                            embedding_dim   = 32,         # For VQ parameters\n",
    "                                            tau_scale = 1.0,             # For VQ parameters\n",
    "                                            kld_scale = 5e-4,            # For VQ parameters \n",
    "                                            actv_enc = nn.ReLU(),        # encoder activation\n",
    "                                            actv_dec = nn.ReLU(),        # decoder activation\n",
    "                                            actv_q   = None,    # q activation\n",
    "                                            actv_out = None,             # output activation\n",
    "                                            device   = 'cuda:0'    \n",
    "                                            )\n",
    "                                  \n",
    "GQVAE = GQVAE.to(GQVAE.device)\n",
    "print (\"[{}] instantiated with device:[{}]\".format(GQVAE.name, GQVAE.device))\n",
    "# Hyperparameters\n",
    "n_epoch,print_every,batch_size,plot_every = 100,1,128,10\n",
    "n_it = (n_train//batch_size) + 1 # number of iterations\n",
    "optm = torch.optim.Adam(\n",
    "    params = GQVAE.parameters(),\n",
    "    lr     = 0.001,\n",
    "    betas  = (0.9,0.99),  # (0.9, 0.999)\n",
    "    eps    = 1e-8,      # 1e-8\n",
    ") \n",
    "dpi = {'x_train_np':x_train_np,'y_train_np':y_train_np,'c_train_np':c_train_np,\n",
    "       'x_test_np':x_test_np,'c_test_np':c_test_np,'c_vecs':np.eye(10,10),\n",
    "       'figsize_image':(10,1.25),'figsize_latent':(10,3.25),\n",
    "       'DPP_GEN':True,'dpp_hyp':{'g':1.0,'l':1.0}}\n",
    "# C.debug_plot_img(**dpi)\n",
    "print (\"Start training.\")\n",
    "x_train_torch = x_train_torch.to(GQVAE.device)\n",
    "c_train_torch = c_train_torch.to(GQVAE.device)\n",
    "for epoch in range(n_epoch):\n",
    "    GQVAE.train()\n",
    "    zero_to_one = float(epoch/(n_epoch-1))\n",
    "    loss_recon_sum,loss_vq_sum,loss_total_sum,n_batch_sum = 0.0,0.0,0.0,0\n",
    "    rand_idxs = np.random.permutation(n_train)\n",
    "    for it in range(n_it):\n",
    "        batch_idx     = rand_idxs[it*batch_size:(it+1)*batch_size]\n",
    "        x_batch_torch = x_train_torch[batch_idx,:]\n",
    "        c_batch_torch = c_train_torch[batch_idx,:]\n",
    "        n_batch       = x_batch_torch.shape[0]\n",
    "        # Update\n",
    "        total_loss_out,loss_info = GQVAE.loss_total(\n",
    "            x               = x_batch_torch,\n",
    "            c               = c_batch_torch,\n",
    "            LOSS_TYPE       = 'L1+L2',\n",
    "            recon_loss_gain = 1.0)\n",
    "        optm.zero_grad()\n",
    "        total_loss_out.backward()\n",
    "        GQVAE.GQ.zero_grad_for_non_diagnoal_weights()\n",
    "        optm.step()\n",
    "        # Errors\n",
    "        loss_total_sum = loss_total_sum + n_batch*loss_info['loss_total_out']\n",
    "        loss_recon_sum = loss_recon_sum + n_batch*loss_info['loss_recon_out']\n",
    "        loss_vq_sum    = loss_vq_sum + n_batch*loss_info['loss_vq']\n",
    "        n_batch_sum    = n_batch_sum + n_batch\n",
    "    loss_total_avg = loss_total_sum / n_batch_sum\n",
    "    loss_recon_avg = loss_recon_sum / n_batch_sum\n",
    "    loss_vq_avg    = loss_vq_sum / n_batch_sum\n",
    "    \n",
    "    # Print\n",
    "    print (\"[%d/%d] total:[%.3f] recon:[%.3f] vq:[%.3f]\"%\n",
    "           (epoch,n_epoch,loss_total_avg,loss_recon_avg, 10000*loss_vq_avg))\n",
    "    \n",
    "    # Plot test images\n",
    "    if ((epoch%plot_every) == 0) or (epoch==(n_epoch-1)):\n",
    "        GQVAE.eval()\n",
    "        GQVAE.debug_plot_img(**dpi)\n",
    "print (\"Done.\")"
   ]
  },
  {
   "cell_type": "code",
   "execution_count": null,
   "metadata": {},
   "outputs": [],
   "source": [
    "print(GQVAE.GQ.embedding.weight.grad)"
   ]
  },
  {
   "cell_type": "code",
   "execution_count": null,
   "metadata": {},
   "outputs": [],
   "source": [
    "print(GQVAE.GQ.embedding.weight.data)"
   ]
  },
  {
   "cell_type": "code",
   "execution_count": null,
   "metadata": {},
   "outputs": [],
   "source": []
  }
 ],
 "metadata": {
  "kernelspec": {
   "display_name": "Python 3.8.8 64-bit ('main')",
   "language": "python",
   "name": "python3"
  },
  "language_info": {
   "codemirror_mode": {
    "name": "ipython",
    "version": 3
   },
   "file_extension": ".py",
   "mimetype": "text/x-python",
   "name": "python",
   "nbconvert_exporter": "python",
   "pygments_lexer": "ipython3",
   "version": "3.8.8"
  },
  "orig_nbformat": 4,
  "vscode": {
   "interpreter": {
    "hash": "c269583280d8b10072b2ac0e98618256c045871c10e4998e869cd86e2e007f5a"
   }
  }
 },
 "nbformat": 4,
 "nbformat_minor": 2
}
